{
 "cells": [
  {
   "cell_type": "code",
   "execution_count": 1,
   "metadata": {},
   "outputs": [],
   "source": [
    "import requests, bs4"
   ]
  },
  {
   "cell_type": "markdown",
   "metadata": {},
   "source": [
    "## 小說爬蟲 - 爬飄天文學小說，並儲存成txt"
   ]
  },
  {
   "cell_type": "code",
   "execution_count": 278,
   "metadata": {},
   "outputs": [
    {
     "name": "stdout",
     "output_type": "stream",
     "text": [
      "/html/10/10656/9508674.html\n",
      "第1447章 乙木灵体！凰血赤金！离去！（二合一求订阅求月票！） 更新时间:09-23 00:03\n"
     ]
    }
   ],
   "source": [
    "#獲得最新一集的小說網址\n",
    "\n",
    "#小說的介紹頁\n",
    "url = 'https://www.ptwxz.com/bookinfo/10/10656.html'\n",
    "htmlfile = requests.get(url)\n",
    "htmlfile.encoding = 'gbk'\n",
    "objSoup = bs4.BeautifulSoup(htmlfile.text, 'lxml')          \n",
    "\n",
    "# find 只找一個， find_all\n",
    "news = objSoup.find('table','grid')\n",
    "\n",
    "#方法一 : 用 find_all\n",
    "'''\n",
    "story = news.find_all('a',target='_blank')\n",
    "print(story[0]['href'])\n",
    "print(story[0]['title'])\n",
    "print('-'*20)\n",
    "'''\n",
    "\n",
    "#方法二 : 用 find 只找最新的一集\n",
    "story = news.find('a',target='_blank')\n",
    "print(story['href'])\n",
    "print(story['title'])\n",
    "\n",
    "#最新一集的小說網址\n",
    "new_url = 'https://www.ptwxz.com/' + story['href']"
   ]
  },
  {
   "cell_type": "code",
   "execution_count": 162,
   "metadata": {},
   "outputs": [
    {
     "name": "stdout",
     "output_type": "stream",
     "text": [
      "小說 全属性武道最新章节, 第1446章 全胜！收获！（二合一求订阅秋月票！）,飘天文学 儲存成功\n"
     ]
    }
   ],
   "source": [
    "# 用上面的 最新一集的小說網址 來爬取最新小說內文\n",
    "story = ''\n",
    "htmlfile = requests.get(new_url)\n",
    "htmlfile.encoding = 'gbk'\n",
    "objSoup = bs4.BeautifulSoup(htmlfile.text,'lxml')\n",
    "title = objSoup.find('title')\n",
    "story = story + title.text[:-5] + '\\n\\n'\n",
    "\n",
    "contents = objSoup.find('body')\n",
    "for content in contents:\n",
    "    if type(content) == bs4.element.NavigableString:\n",
    "        txt = content.strip()\n",
    "        if type(txt) == str and txt != '':              # 確定是字串和不是空字串\n",
    "            txt = content.strip()\n",
    "            story = story + txt + '\\n\\n'\n",
    "            \n",
    "'''\n",
    "#寫入txt檔\n",
    "fn = title.text\n",
    "with open(fn, 'w', encoding='utf-8') as obj:\n",
    "    obj.write(story)\n",
    "print('小說 %s 儲存成功' % title.text)\n",
    "'''"
   ]
  },
  {
   "cell_type": "code",
   "execution_count": null,
   "metadata": {},
   "outputs": [],
   "source": [
    "# 同論壇別的小說測試\n",
    "url = 'https://www.ptwxz.com/bookinfo/13/13647.html'\n",
    "htmlfile = requests.get(url)\n",
    "htmlfile.encoding = 'gbk'\n",
    "objSoup = bs4.BeautifulSoup(htmlfile.text, 'lxml')          \n",
    "\n",
    "# find 只找一個， find_all\n",
    "news = objSoup.find('table','grid')\n",
    "\n",
    "#方法一 : 用 find_all\n",
    "'''\n",
    "story = news.find_all('a',target='_blank')\n",
    "print(story[0]['href'])\n",
    "print(story[0]['title'])\n",
    "print('-'*20)\n",
    "'''\n",
    "#方法二 : 用 find 只找最新的一集\n",
    "story = news.find('a',target='_blank')\n",
    "print(story['href'])\n",
    "print(story['title'])\n",
    "\n",
    "new_url = 'https://www.ptwxz.com/' + story['href']\n",
    "story = ''\n",
    "htmlfile = requests.get(new_url)\n",
    "htmlfile.encoding = 'gbk'\n",
    "objSoup = bs4.BeautifulSoup(htmlfile.text,'lxml')\n",
    "title = objSoup.find('title')\n",
    "story = story + title.text[:-5] + '\\n\\n'\n",
    "\n",
    "contents = objSoup.find('body')\n",
    "for content in contents:\n",
    "    if type(content) == bs4.element.NavigableString:\n",
    "        txt = content.strip()\n",
    "        if type(txt) == str and txt != '':              # 確定是字串和不是空字串\n",
    "            txt = content.strip()\n",
    "            story = story + txt + '\\n\\n'\n",
    "print(story)"
   ]
  },
  {
   "cell_type": "markdown",
   "metadata": {},
   "source": [
    "## 最終結果，用兩個Function分別做(1)取得最新集數小說網址(2)爬取文章並存檔"
   ]
  },
  {
   "cell_type": "code",
   "execution_count": 279,
   "metadata": {},
   "outputs": [],
   "source": [
    "def find_new( url : str ):\n",
    "    htmlfile = requests.get(url)\n",
    "    #簡體編碼為 gbk\n",
    "    htmlfile.encoding = 'gbk'\n",
    "    objSoup = bs4.BeautifulSoup(htmlfile.text, 'lxml') \n",
    "    news = objSoup.find('table','grid')\n",
    "    #方法一 : 用 find_all\n",
    "    story = news.find_all('a',target='_blank')\n",
    "    #最新一集的網址\n",
    "    #print(story[0]['href'])\n",
    "    \n",
    "    '''\n",
    "    #方法二 : 用 find 只找最新的一集\n",
    "    story = news.find('a',target='_blank')\n",
    "    '''\n",
    "    \n",
    "    return story"
   ]
  },
  {
   "cell_type": "code",
   "execution_count": 280,
   "metadata": {},
   "outputs": [],
   "source": [
    "def catch_article(url : str):\n",
    "    story = ''\n",
    "    htmlfile = requests.get(url)\n",
    "    htmlfile.encoding = 'gbk'\n",
    "    objSoup = bs4.BeautifulSoup(htmlfile.text,'lxml')\n",
    "    title = objSoup.find('title')\n",
    "    \n",
    "    story = story + title.text[:-5] + '\\n\\n'\n",
    "\n",
    "    contents = objSoup.find('body')\n",
    "    for content in contents:\n",
    "        if type(content) == bs4.element.NavigableString:\n",
    "            txt = content.strip()\n",
    "            if type(txt) == str and txt != '':              # 確定是字串和不是空字串\n",
    "                txt = content.strip()\n",
    "                story = story + txt + '\\n\\n'\n",
    "    fn = title.text\n",
    "    with open(fn, 'w', encoding='utf-8') as obj:\n",
    "        obj.write(story)\n",
    "    print('小說 %s 儲存成功' % title.text)"
   ]
  },
  {
   "cell_type": "code",
   "execution_count": 284,
   "metadata": {},
   "outputs": [
    {
     "name": "stdout",
     "output_type": "stream",
     "text": [
      "小說 不能修仙的我只有去培育魂宠了最新章节,正文 第310章 沧浪零式，械神兵,飘天文学 儲存成功\n"
     ]
    }
   ],
   "source": [
    "import requests, bs4\n",
    "url = 'https://www.ptwxz.com/bookinfo/13/13647.html'\n",
    "new_url = find_new(url)\n",
    "new_article = catch_article('https://www.ptwxz.com/' + new_url[0]['href'])\n",
    "#也可用迴圈方式，把最新的9篇皆存下來"
   ]
  },
  {
   "cell_type": "code",
   "execution_count": 285,
   "metadata": {},
   "outputs": [
    {
     "data": {
      "text/plain": [
       "[<a href=\"/html/13/13647/9508446.html\" target=\"_blank\" title=\"第310章 沧浪零式，械神兵 更新时间:09-22 22:55\">第310章 沧浪零式，械神兵</a>,\n",
       " <a href=\"/html/13/13647/9508445.html\" target=\"_blank\" title=\"第309章 元神附体 更新时间:09-22 22:55\">第309章 元神附体</a>,\n",
       " <a href=\"/html/13/13647/9506343.html\" target=\"_blank\" title=\"第308章 王霸天再现！ 更新时间:09-22 00:21\">第308章 王霸天再现！</a>,\n",
       " <a href=\"/html/13/13647/9506342.html\" target=\"_blank\" title=\"第307章 打个喷嚏 更新时间:09-22 00:21\">第307章 打个喷嚏</a>,\n",
       " <a href=\"/html/13/13647/9505346.html\" target=\"_blank\" title=\"第306章 那我有这个呢？ 更新时间:09-21 17:28\">第306章 那我有这个呢？</a>,\n",
       " <a href=\"/html/13/13647/9505345.html\" target=\"_blank\" title=\"第305章 领悟 更新时间:09-21 17:28\">第305章 领悟</a>,\n",
       " <a href=\"/html/13/13647/9503654.html\" target=\"_blank\" title=\"第304章 我来试试吧 更新时间:09-21 00:03\">第304章 我来试试吧</a>,\n",
       " <a href=\"/html/13/13647/9503653.html\" target=\"_blank\" title=\"第303章 乱海洲 更新时间:09-21 00:03\">第303章 乱海洲</a>,\n",
       " <a href=\"/html/13/13647/9502587.html\" target=\"_blank\" title=\"第302章 熊宝就是你的同伴了 更新时间:09-20 16:37\">第302章 熊宝就是你的同伴了</a>]"
      ]
     },
     "execution_count": 285,
     "metadata": {},
     "output_type": "execute_result"
    }
   ],
   "source": [
    "#最新小說爬蟲只能爬最新的前9集\n",
    "new_url"
   ]
  },
  {
   "cell_type": "markdown",
   "metadata": {},
   "source": [
    "## 爬取全部章節的標題及網址，可以配合之前爬取文章的方式把全部文章皆儲存下來"
   ]
  },
  {
   "cell_type": "code",
   "execution_count": 274,
   "metadata": {},
   "outputs": [],
   "source": [
    "url = 'https://www.ptwxz.com/html/13/13647/'\n",
    "htmlfile = requests.get(url)\n",
    "htmlfile.encoding = 'gbk'\n",
    "objSoup = bs4.BeautifulSoup(htmlfile.text, 'lxml')\n",
    "title = objSoup.find('h1').text[:-4]\n",
    "all_chapter = []\n",
    "ul = objSoup.find_all('ul')\n",
    "for i in range(len(ul)):\n",
    "    li = ul[i].find_all('li')\n",
    "    for j in range(len(li)):\n",
    "        a = li[j].find_all('a')\n",
    "        if a!=[]:\n",
    "            all_chapter.append((a[0].text,a[0]['href']))"
   ]
  },
  {
   "cell_type": "code",
   "execution_count": 275,
   "metadata": {},
   "outputs": [
    {
     "name": "stdout",
     "output_type": "stream",
     "text": [
      "不能修仙的我只有去培育魂宠了 總共有 310 篇\n"
     ]
    }
   ],
   "source": [
    "print('%s 總共有 %d 篇'%(title,len(all_chapter)))"
   ]
  },
  {
   "cell_type": "code",
   "execution_count": 276,
   "metadata": {},
   "outputs": [
    {
     "data": {
      "text/plain": [
       "[('第1章 不能修仙？', '9279503.html'),\n",
       " ('第2章 这仙暂时不修也罢', '9279504.html'),\n",
       " ('第3章 封号天王', '9279505.html'),\n",
       " ('第4章 牺牲小我，成就大我！', '9279506.html'),\n",
       " ('第5章 百万年魂宠', '9279507.html'),\n",
       " ('第6章 林曦', '9279508.html'),\n",
       " ('第7章 目标和展望', '9279509.html'),\n",
       " ('第8章 魂宠启蒙！第一步！', '9279510.html'),\n",
       " ('第9章 修炼伊始，兽元功，导魂术', '9279511.html'),\n",
       " ('第10章 测试，魂技？！', '9279512.html'),\n",
       " ('第11章 三六九钢，机械魂宠', '9279513.html'),\n",
       " ('第12章 得加钱！', '9279514.html'),\n",
       " ('第13章 十年魂技', '9279515.html'),\n",
       " ('第14章 吐丝魂技，开学', '9279516.html'),\n",
       " ('第15章 启明杯，魂宠对战', '9279517.html'),\n",
       " ('第16章 初战！', '9279518.html'),\n",
       " ('第17章 你已经输了！', '9279519.html'),\n",
       " ('第18章 魂装色霸气', '9279520.html'),\n",
       " ('第19章 你这该死的魅力', '9279521.html'),\n",
       " ('第20章 小丑竟是你自己', '9279522.html')]"
      ]
     },
     "execution_count": 276,
     "metadata": {},
     "output_type": "execute_result"
    }
   ],
   "source": [
    "all_chapter[:20]"
   ]
  },
  {
   "cell_type": "code",
   "execution_count": null,
   "metadata": {},
   "outputs": [],
   "source": []
  }
 ],
 "metadata": {
  "kernelspec": {
   "display_name": "Python 3",
   "language": "python",
   "name": "python3"
  },
  "language_info": {
   "codemirror_mode": {
    "name": "ipython",
    "version": 3
   },
   "file_extension": ".py",
   "mimetype": "text/x-python",
   "name": "python",
   "nbconvert_exporter": "python",
   "pygments_lexer": "ipython3",
   "version": "3.7.1"
  }
 },
 "nbformat": 4,
 "nbformat_minor": 2
}
